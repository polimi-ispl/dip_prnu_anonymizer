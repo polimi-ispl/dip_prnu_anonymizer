{
 "cells": [
  {
   "cell_type": "markdown",
   "source": [
    "# Fooling PRNU on Device Attribution through Deep-Image-Prior \n",
    "\n",
    "@Author: Francesco Picetti - francesco.picetti@polimi.it"
   ],
   "metadata": {
    "collapsed": false,
    "pycharm": {
     "name": "#%% md\n"
    }
   }
  },
  {
   "cell_type": "code",
   "execution_count": null,
   "outputs": [],
   "source": [
    "from __future__ import print_function\n",
    "import os\n",
    "from glob import glob\n",
    "import numpy as np\n",
    "from scipy.io import loadmat\n",
    "from utils import utils as u\n",
    "from PIL import Image"
   ],
   "metadata": {
    "collapsed": false,
    "pycharm": {
     "name": "#%% \n"
    }
   }
  },
  {
   "cell_type": "markdown",
   "source": [
    "### Prepare lists"
   ],
   "metadata": {
    "collapsed": false,
    "pycharm": {
     "name": "#%% md\n"
    }
   }
  },
  {
   "cell_type": "code",
   "execution_count": null,
   "outputs": [],
   "source": [
    "PSNRmin = 42\n",
    "gt = []  # store ground truth\n",
    "ncc = []  # store normalized cross-correlation values\n",
    "device_list = glob('./dataset/*')\n",
    "\n",
    "for dev in device_list:\n",
    "    others = device_list\n",
    "    others.remove(dev)\n",
    "    prnu = loadmat(os.path.join(dev, 'prnu_cropped512.mat'))['prnu']\n",
    "    for pic in glob(os.path.join(dev, '*_anonymized.png')):\n",
    "        img_anonymized = np.array(Image.open(pic))\n",
    "        ncc += [u.ncc(prnu, u.extract_prnu(img_anonymized))]\n",
    "        gt += [1]\n",
    "    for other in others:\n",
    "        for _ in glob(os.path.join(other, '*_anonymized.png')):\n",
    "            ncc += [u.ncc(prnu, u.extract_prnu(img_anonymized))]\n",
    "            gt += [0]\n",
    "\n",
    "        "
   ],
   "metadata": {
    "collapsed": false,
    "pycharm": {
     "name": "#%%\n"
    }
   }
  },
  {
   "cell_type": "markdown",
   "source": [
    "### Compute statistics"
   ],
   "metadata": {
    "collapsed": false,
    "pycharm": {
     "name": "#%% md\n"
    }
   }
  },
  {
   "cell_type": "code",
   "execution_count": null,
   "outputs": [],
   "source": [
    "statistics = u.prnu.stats(np.asarray(ncc), np.asarray(gt))"
   ],
   "metadata": {
    "collapsed": false,
    "pycharm": {
     "name": "#%%\n"
    }
   }
  }
 ],
 "metadata": {
  "kernelspec": {
   "display_name": "Python 3",
   "language": "python",
   "name": "python3"
  },
  "language_info": {
   "codemirror_mode": {
    "name": "ipython",
    "version": 2
   },
   "file_extension": ".py",
   "mimetype": "text/x-python",
   "name": "python",
   "nbconvert_exporter": "python",
   "pygments_lexer": "ipython2",
   "version": "2.7.6"
  },
  "pycharm": {
   "stem_cell": {
    "cell_type": "raw",
    "source": [],
    "metadata": {
     "collapsed": false
    }
   }
  }
 },
 "nbformat": 4,
 "nbformat_minor": 0
}